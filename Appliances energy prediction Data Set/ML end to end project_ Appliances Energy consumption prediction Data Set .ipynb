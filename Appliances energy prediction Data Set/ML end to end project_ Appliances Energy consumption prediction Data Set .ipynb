{
 "cells": [
  {
   "cell_type": "markdown",
   "metadata": {},
   "source": [
    "# <Font color = Blue> Appliances energy prediction Data Set"
   ]
  },
  {
   "cell_type": "markdown",
   "metadata": {},
   "source": [
    "## <font color= purple> About Dataset \n",
    "\n",
    "<font color= purple>Data Set Information:\n",
    "\n",
    "The data set is at 10 min for about 4.5 months. The house temperature and humidity conditions were monitored with a ZigBee wireless sensor network. Each wireless node transmitted the temperature and humidity conditions around 3.3 min. Then, the wireless data was averaged for 10 minutes periods. \n",
    "\n",
    "The energy data was logged every 10 minutes with m-bus energy meters. Weather from the nearest airport weather station (Chievres Airport, Belgium) was downloaded from a public data set from Reliable Prognosis (rp5.ru), and merged together with the experimental data sets using the date and time column. Two random variables have been included in the data set for testing the regression models and to filter out non predictive attributes (parameters).</font>\n",
    "    \n",
    "Data set Link : https://archive.ics.uci.edu/ml/machine-learning-databases/00374/energydata_complete.csv"
   ]
  },
  {
   "cell_type": "markdown",
   "metadata": {},
   "source": [
    "## <font color= Darkgreen>Attribute Information:\n",
    "\n",
    "</br>date time year-month-day hour:minute:second <br>\n",
    "Appliances, energy use in Wh<br>\n",
    "lights, energy use of light fixtures in the house in Wh<br>\n",
    "T1, Temperature in kitchen area, in Celsius<br>\n",
    "RH_1, Humidity in kitchen area, in %<br>\n",
    "T2, Temperature in living room area, in Celsius<br>\n",
    "RH_2, Humidity in living room area, in %<br>\n",
    "T3, Temperature in laundry room area<br>\n",
    "RH_3, Humidity in laundry room area, in %<br>\n",
    "T4, Temperature in office room, in Celsius<br>\n",
    "RH_4, Humidity in office room, in %<br>\n",
    "T5, Temperature in bathroom, in Celsius<br>\n",
    "RH_5, Humidity in bathroom, in %<br>\n",
    "T6, Temperature outside the building (north side), in Celsius<br>\n",
    "RH_6, Humidity outside the building (north side), in %<br>\n",
    "T7, Temperature in ironing room , in Celsius<br>\n",
    "RH_7, Humidity in ironing room, in %<br>\n",
    "T8, Temperature in teenager room 2, in Celsius<br>\n",
    "RH_8, Humidity in teenager room 2, in %<br>\n",
    "T9, Temperature in parents room, in Celsius<br>\n",
    "RH_9, Humidity in parents room, in %<br>\n",
    "To, Temperature outside (from Chievres weather station), in Celsius<br>\n",
    "Pressure (from Chievres weather station), in mm Hg<br>\n",
    "RH_out, Humidity outside (from Chievres weather station), in %<br>\n",
    "Wind speed (from Chievres weather station), in m/s<br>\n",
    "Visibility (from Chievres weather station), in km<br>\n",
    "Tdewpoint (from Chievres weather station), Â°C<br>\n",
    "rv1, Random variable 1, nondimensional<br>\n",
    "rv2, Random variable 2, nondimensional</font>"
   ]
  },
  {
   "cell_type": "markdown",
   "metadata": {},
   "source": [
    "# <FONT COLOR = BLUE>READING THE DATA"
   ]
  },
  {
   "cell_type": "code",
   "execution_count": null,
   "metadata": {},
   "outputs": [],
   "source": [
    "import pandas as pd\n"
   ]
  },
  {
   "cell_type": "code",
   "execution_count": null,
   "metadata": {},
   "outputs": [],
   "source": [
    "\n",
    "\n",
    "df =pd.read_csv(r'D:\\Hamoye Graded Quiz - Stage B\\quiz Data\\Appliances energy prediction Data Set_original\\energydata_complete.csv',parse_dates=['date'])"
   ]
  },
  {
   "cell_type": "code",
   "execution_count": null,
   "metadata": {},
   "outputs": [],
   "source": [
    "df.shape"
   ]
  },
  {
   "cell_type": "code",
   "execution_count": null,
   "metadata": {},
   "outputs": [],
   "source": [
    "df.head()"
   ]
  },
  {
   "cell_type": "code",
   "execution_count": null,
   "metadata": {},
   "outputs": [],
   "source": [
    "df.columns = [x.lower() for x in df.columns]"
   ]
  },
  {
   "cell_type": "code",
   "execution_count": null,
   "metadata": {},
   "outputs": [],
   "source": [
    "df = df.set_index('date')"
   ]
  },
  {
   "cell_type": "code",
   "execution_count": null,
   "metadata": {},
   "outputs": [],
   "source": [
    "df.head()"
   ]
  },
  {
   "cell_type": "code",
   "execution_count": null,
   "metadata": {},
   "outputs": [],
   "source": [
    "df.info()"
   ]
  },
  {
   "cell_type": "markdown",
   "metadata": {},
   "source": [
    "## <FONT COLOR = BLUE> DATA STRUCTURE "
   ]
  },
  {
   "cell_type": "code",
   "execution_count": null,
   "metadata": {},
   "outputs": [],
   "source": [
    "# check missing values\n",
    "df.isnull().sum()"
   ]
  },
  {
   "cell_type": "code",
   "execution_count": null,
   "metadata": {},
   "outputs": [],
   "source": [
    "df.describe()"
   ]
  },
  {
   "cell_type": "code",
   "execution_count": null,
   "metadata": {},
   "outputs": [],
   "source": [
    "%matplotlib inline\n",
    "import matplotlib.pyplot as plt\n",
    "df.hist(bins=50,figsize=(20,15))\n",
    "plt.savefig(\"attribute_histograms_plots\")\n",
    "plt.show()"
   ]
  },
  {
   "cell_type": "code",
   "execution_count": null,
   "metadata": {},
   "outputs": [],
   "source": [
    "df.corr()"
   ]
  },
  {
   "cell_type": "code",
   "execution_count": null,
   "metadata": {},
   "outputs": [],
   "source": [
    "import seaborn as sns\n"
   ]
  },
  {
   "cell_type": "code",
   "execution_count": null,
   "metadata": {},
   "outputs": [],
   "source": [
    "sns.pairplot(df)"
   ]
  },
  {
   "cell_type": "code",
   "execution_count": null,
   "metadata": {},
   "outputs": [],
   "source": [
    "%matplotlib inline\n",
    "import matplotlib.pyplot as plt\n",
    "import seaborn as sns\n",
    "plt.figure(figsize=(30,30))\n",
    "sns.heatmap(df.corr(), annot = True, cmap= 'coolwarm')\n"
   ]
  },
  {
   "cell_type": "code",
   "execution_count": null,
   "metadata": {},
   "outputs": [],
   "source": [
    "sorted_appliances = df.sort_values('appliances',ascending=False)\n",
    "sorted_appliances.head()"
   ]
  },
  {
   "cell_type": "code",
   "execution_count": null,
   "metadata": {},
   "outputs": [],
   "source": [
    "import warnings\n",
    "warnings.filterwarnings(\"ignore\")"
   ]
  },
  {
   "cell_type": "code",
   "execution_count": null,
   "metadata": {},
   "outputs": [],
   "source": [
    "sorted_appliances=df.sort_values('appliances',ascending=False)\n",
    "print(\"The number f the 0,1%top values of appliances' load is\", \n",
    "      len(sorted_appliances.head(len(sorted_appliances)//1000)),\n",
    "          \"and they have power load higher than\",sorted_appliances.appliances[19],\"wh.\")\n",
    "\n",
    "# boxplot appliances\n",
    "sns.set(style=\"whitegrid\")\n",
    "ax = sns.boxplot(sorted_appliances.appliances)"
   ]
  },
  {
   "cell_type": "code",
   "execution_count": null,
   "metadata": {},
   "outputs": [],
   "source": [
    "# Removing Outliers setting appliances more than 790 as outliers and dropping it \n",
    "df = df.dropna()\n",
    "df= df.drop(df[(df.appliances>790)|(df.appliances<0)].index)"
   ]
  },
  {
   "cell_type": "code",
   "execution_count": null,
   "metadata": {},
   "outputs": [],
   "source": [
    "sorted_appliances = df.sort_values('appliances',ascending=False)\n",
    "sorted_appliances.head()"
   ]
  },
  {
   "cell_type": "code",
   "execution_count": null,
   "metadata": {},
   "outputs": [],
   "source": [
    "df['hour']=df.index.hour\n",
    "df['week']=df.index.week\n",
    "df['weekday']= df.index.weekday\n",
    "df['month']=df.index.month"
   ]
  },
  {
   "cell_type": "code",
   "execution_count": null,
   "metadata": {},
   "outputs": [],
   "source": [
    "import numpy as np\n",
    "df['log_appliances']=np.log(df.appliances)"
   ]
  },
  {
   "cell_type": "code",
   "execution_count": null,
   "metadata": {},
   "outputs": [],
   "source": [
    "df['house_temp']= (df.t1+df.t2+df.t3+df.t4+df.t5+df.t7+df.t8+df.t9)/8\n",
    "df['house_hum']= (df.rh_1+df.rh_2+df.rh_3+df.rh_4+df.rh_5+df.rh_7+df.rh_8+df.rh_9)/8"
   ]
  },
  {
   "cell_type": "code",
   "execution_count": null,
   "metadata": {},
   "outputs": [],
   "source": [
    "df['house_temp'].head()"
   ]
  },
  {
   "cell_type": "code",
   "execution_count": null,
   "metadata": {},
   "outputs": [],
   "source": [
    "df.head()"
   ]
  },
  {
   "cell_type": "code",
   "execution_count": null,
   "metadata": {},
   "outputs": [],
   "source": [
    "#remove Additive assumptions\n",
    "df['hour*lights']=df.hour*df.lights\n",
    "df['t1rh1'] = df.t1 *df.rh_1\n",
    "df['t2rh2'] = df.t2 *df.rh_2\n",
    "df['t3rh3'] = df.t3 *df.rh_3\n",
    "df['t4rh4'] = df.t4 *df.rh_4\n",
    "df['t5rh5'] = df.t5 *df.rh_5\n",
    "df['t6rh6'] = df.t6 *df.rh_6\n",
    "df['t7rh7'] = df.t7 *df.rh_7\n",
    "df['t8rh8'] = df.t8 *df.rh_8\n",
    "df['t9rh9'] = df.t9 *df.rh_9"
   ]
  },
  {
   "cell_type": "code",
   "execution_count": null,
   "metadata": {},
   "outputs": [],
   "source": [
    "def code_mean(data,cat_feature,real_feature):\n",
    "    return dict(data.groupby(cat_feature)[real_feature].mean())\n"
   ]
  },
  {
   "cell_type": "code",
   "execution_count": null,
   "metadata": {},
   "outputs": [],
   "source": [
    "df['weekday_avg']=list(map(code_mean(df[:],'weekday',\"appliances\").get,df.weekday))\n",
    "df['hour_avg']=list(map(code_mean(df[:],'hour',\"appliances\").get,df.hour))"
   ]
  },
  {
   "cell_type": "code",
   "execution_count": null,
   "metadata": {},
   "outputs": [],
   "source": [
    "df['weekday_avg'].head()"
   ]
  },
  {
   "cell_type": "code",
   "execution_count": null,
   "metadata": {},
   "outputs": [],
   "source": [
    "df['hour_avg'].head()"
   ]
  },
  {
   "cell_type": "code",
   "execution_count": null,
   "metadata": {},
   "outputs": [],
   "source": [
    "df.head()"
   ]
  },
  {
   "cell_type": "code",
   "execution_count": null,
   "metadata": {},
   "outputs": [],
   "source": [
    "df_hour=df.resample('1H').mean()\n",
    "df_30min =df.resample('30min').mean()"
   ]
  },
  {
   "cell_type": "code",
   "execution_count": null,
   "metadata": {},
   "outputs": [],
   "source": [
    "df_hour.head()"
   ]
  },
  {
   "cell_type": "code",
   "execution_count": null,
   "metadata": {},
   "outputs": [],
   "source": [
    "df_30min.head()"
   ]
  },
  {
   "cell_type": "code",
   "execution_count": null,
   "metadata": {},
   "outputs": [],
   "source": [
    "#setting the assumptions as to lower or higher\n",
    "#Tryouts\n",
    "df_hour['low_consum']=(df_hour.appliances+25<(df_hour.hour_avg))*1\n",
    "df_hour['High_consum']=(df_hour.appliances+25<(df_hour.hour_avg))*1\n",
    "\n",
    "df_30min['low_consum']=(df_30min.appliances+25<(df_30min.hour_avg))*1\n",
    "df_30min['High_consum']=(df_30min.appliances+35<(df_30min.hour_avg))*1"
   ]
  },
  {
   "cell_type": "code",
   "execution_count": null,
   "metadata": {},
   "outputs": [],
   "source": [
    "def daily(x,df=df):\n",
    "    return df.groupby('weekday')[x].mean()\n",
    "def hourly(x,df=df):\n",
    "    return df.groupby('hour')[x].mean()\n",
    "def monthly_daily(x,df=df):\n",
    "    by_day =df.pivot_table(index='weekday',columns=['month'],values=x,aggfunc='mean')\n",
    "    return round(by_day,ndigits=2)"
   ]
  },
  {
   "cell_type": "markdown",
   "metadata": {},
   "source": [
    "# <font color = REd> Daily consumption"
   ]
  },
  {
   "cell_type": "code",
   "execution_count": null,
   "metadata": {},
   "outputs": [],
   "source": [
    "#plotting the hourly consumption\n",
    "hourly('appliances').plot(figsize=(10,9))\n",
    "plt.xlabel('hour')\n",
    "plt.ylabel('appliances consumption in wh')\n",
    "ticks = list(range(0,24,1))\n",
    "plt.title('Mean Energy consumption per hour of a day')\n",
    "plt.xticks(ticks);"
   ]
  },
  {
   "cell_type": "markdown",
   "metadata": {},
   "source": [
    "# <font color = Red>weekly consumption"
   ]
  },
  {
   "cell_type": "code",
   "execution_count": null,
   "metadata": {},
   "outputs": [],
   "source": [
    "#weekly consumption\n",
    "\n",
    "daily('appliances').plot(kind='bar',color=['pink','red','green','blue','cyan','yellow','orange'],figsize=(10,7))\n",
    "ticks = list(range(0,7,1))\n",
    "labels=\"Mon Tues Weds Thurs Fri Sat sun\".split()\n",
    "plt.xlabel('Day')\n",
    "plt.ylabel('appliances consumption in wh')\n",
    "plt.title('Mean Energy consumption per day of week')\n",
    "plt.xticks(ticks,labels);"
   ]
  },
  {
   "cell_type": "markdown",
   "metadata": {},
   "source": [
    "# <font color = Red> Monthly Energy consumption"
   ]
  },
  {
   "cell_type": "code",
   "execution_count": null,
   "metadata": {},
   "outputs": [],
   "source": [
    "#monthly consumption\n",
    "sns.set(rc={'figure.figsize':(10,8)})\n",
    "ax = sns.heatmap(monthly_daily('appliances').T,cmap=\"PiYG\",\n",
    "                 xticklabels=\"Mon Tues Weds Thurs Fri Sat sun\".split(),\n",
    "                 yticklabels=\"Jan Feb Mar Apr May \".split(),\n",
    "                 annot=True,fmt='g',\n",
    "                 cbar_kws={'label':'consumption in wh'}).set_title(\"Mean applicances consumption(wh)per weekday/month\").set_fontsize('20')\n",
    "plt.show()"
   ]
  },
  {
   "cell_type": "code",
   "execution_count": null,
   "metadata": {},
   "outputs": [],
   "source": [
    "f,axes = plt.subplots(1,2,figsize=(10,5))\n",
    "\n",
    "sns.distplot(df_hour.appliances,hist=True,color='red',hist_kws={'edgecolor':'black'},ax=axes[0])\n",
    "axes[0].set_title(\"Appliance's Consumption\")\n",
    "axes[0].set_title(\"Applicances wH\")\n",
    "\n",
    "sns.distplot(df_hour.log_appliances,hist=True,color='green',hist_kws={'edgecolor':\"black\"},ax=axes[1])\n",
    "axes[1].set_title(\"Log Appliance's consumption\")\n",
    "axes[1].set_xlabel('Appliances Log(wH)')"
   ]
  },
  {
   "cell_type": "code",
   "execution_count": null,
   "metadata": {},
   "outputs": [],
   "source": [
    "col = ['log_appliances','lights','t1','rh_1','t2','rh_2','t3',\n",
    "       'rh_3','t4','rh_4','t5','rh_5','t6','rh_6','t7','rh_7',\n",
    "       't8','rh_8','t9','rh_9','t_out','press_mm_hg','rh_out',\n",
    "       'windspeed','visibility','tdewpoint','hour']\n",
    "corr =df[col].corr()\n",
    "plt.figure(figsize=(15,15))\n",
    "sns.set(font_scale=1)\n",
    "sns.heatmap(corr,annot=True,cmap='RdYlGn',fmt='.2f',xticklabels=col,yticklabels=col)\n",
    "plt.show()\n",
    "       "
   ]
  },
  {
   "cell_type": "code",
   "execution_count": null,
   "metadata": {},
   "outputs": [],
   "source": [
    "col = ['t6','t2','rh_2','lights','hour','t_out','windspeed','tdewpoint']\n",
    "sns.set(style='ticks',color_codes=True)\n",
    "sns.pairplot(df[col])\n",
    "plt.show()"
   ]
  },
  {
   "cell_type": "markdown",
   "metadata": {},
   "source": [
    "# <font color =Blue> Training the Model"
   ]
  },
  {
   "cell_type": "code",
   "execution_count": null,
   "metadata": {},
   "outputs": [],
   "source": [
    "for cat_feature in ['weekday','hour']:\n",
    "    df_hour =pd.concat([df_hour,pd.get_dummies(df_hour[cat_feature])],axis=1)\n",
    "    df_30min =pd.concat([df_30min,pd.get_dummies(df_30min[cat_feature])],axis=1)\n",
    "    df=pd.concat([df,pd.get_dummies(df[cat_feature])],axis=1)\n"
   ]
  },
  {
   "cell_type": "code",
   "execution_count": null,
   "metadata": {},
   "outputs": [],
   "source": [
    "lin_model = ['low_consum','High_consum','hour','t6','rh_6','lights','hour*lights','windspeed','t6rh6']"
   ]
  },
  {
   "cell_type": "code",
   "execution_count": null,
   "metadata": {},
   "outputs": [],
   "source": [
    "df_hour.lights =df_hour.lights.astype(float)\n",
    "df_hour.log_appliances =df_hour.log_appliances.astype(float)\n",
    "df_hour.hour =df_hour.hour.astype(float)\n",
    "df_hour.low_consum =df_hour.low_consum.astype(float)\n",
    "df_hour.High_consum =df_hour.High_consum.astype(float)\n",
    "df_hour.t6rh6 =df_hour.t6rh6.astype(float)"
   ]
  },
  {
   "cell_type": "code",
   "execution_count": null,
   "metadata": {},
   "outputs": [],
   "source": [
    "test_size=0.2\n",
    "test_index = int(len(df_hour.dropna())*(1-test_size))\n",
    "X1_train,X1_test= df_hour[lin_model].iloc[:test_index,],df_hour[lin_model].iloc[test_index:,]\n",
    "y1_train,y1_test = df_hour.log_appliances.iloc[:test_index,],df_hour.log_appliances.iloc[test_index:,]"
   ]
  },
  {
   "cell_type": "code",
   "execution_count": null,
   "metadata": {},
   "outputs": [],
   "source": [
    "from sklearn.preprocessing import StandardScaler\n",
    "\n",
    "scaler = StandardScaler()\n",
    "scaler.fit(X1_train)\n",
    "X1_train = scaler.transform(X1_train)\n",
    "X1_test = scaler.transform(X1_test)"
   ]
  },
  {
   "cell_type": "code",
   "execution_count": null,
   "metadata": {},
   "outputs": [],
   "source": [
    "from sklearn import linear_model\n",
    "\n",
    "lin_model = linear_model.LinearRegression()\n",
    "lin_model.fit(X1_train,y1_train)"
   ]
  },
  {
   "cell_type": "markdown",
   "metadata": {},
   "source": [
    "# <font color = Blue> Model evaluation and selection"
   ]
  },
  {
   "cell_type": "code",
   "execution_count": null,
   "metadata": {},
   "outputs": [],
   "source": [
    "from sklearn.model_selection import TimeSeriesSplit\n",
    "from sklearn.metrics import mean_squared_error,r2_score\n",
    "from sklearn.model_selection import cross_val_score,cross_val_predict\n",
    "from sklearn import metrics\n"
   ]
  },
  {
   "cell_type": "code",
   "execution_count": null,
   "metadata": {},
   "outputs": [],
   "source": [
    "def evaluate(model,test_features,test_labels):\n",
    "    predictions = model.predict(test_features)\n",
    "    errors = abs(predictions-test_labels)\n",
    "    mape = 100* np.mean(errors/test_labels)\n",
    "    r_score = 100*r2_score(test_labels, predictions)\n",
    "    accuracy = 100-mape\n",
    "    print(model,'\\n')\n",
    "    print('MAPE               :{:0.2f}%'.format(mape))\n",
    "    print('Average Error      :{:0.4f}%'.format(np.mean(errors)))\n",
    "    print('variance score R^2 :{:0.2f}%'.format(r_score))\n",
    "    print('Accuracy           :{:0.2f}%'.format(accuracy))"
   ]
  },
  {
   "cell_type": "code",
   "execution_count": null,
   "metadata": {},
   "outputs": [],
   "source": [
    "evaluate(lin_model,X1_test,y1_test)"
   ]
  },
  {
   "cell_type": "code",
   "execution_count": null,
   "metadata": {},
   "outputs": [],
   "source": [
    "cv = TimeSeriesSplit(n_splits = 10)\n",
    "\n",
    "print('Linear Model')\n",
    "scores = cross_val_score(lin_model,X1_train,y1_train,cv=cv,scoring ='neg_mean_absolute_error')\n",
    "print(\"Accuracy : %0.2f(+/- %0.2f)degrees\" % (100+scores.mean(),scores.std()*2))\n",
    "scores = cross_val_score(lin_model,X1_train,y1_train,cv=cv,scoring ='r2')\n",
    "print(\"R^2 : %0.2f(+/- %0.2f)degrees\" % (scores.mean(),scores.std()*2))"
   ]
  },
  {
   "cell_type": "code",
   "execution_count": null,
   "metadata": {},
   "outputs": [],
   "source": []
  }
 ],
 "metadata": {
  "celltoolbar": "Raw Cell Format",
  "kernelspec": {
   "display_name": "Python 3",
   "language": "python",
   "name": "python3"
  },
  "language_info": {
   "codemirror_mode": {
    "name": "ipython",
    "version": 3
   },
   "file_extension": ".py",
   "mimetype": "text/x-python",
   "name": "python",
   "nbconvert_exporter": "python",
   "pygments_lexer": "ipython3",
   "version": "3.8.5"
  }
 },
 "nbformat": 4,
 "nbformat_minor": 4
}
